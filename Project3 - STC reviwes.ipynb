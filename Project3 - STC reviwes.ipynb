{
 "cells": [
  {
   "cell_type": "markdown",
   "metadata": {
    "id": "gr3CfLx6HAEW"
   },
   "source": [
    "# Project 3"
   ]
  },
  {
   "cell_type": "markdown",
   "metadata": {
    "id": "DDbPWkXCqTq0"
   },
   "source": [
    "# Introduction \n",
    "- This data was collected from twitter using twint tool, collected based on specific keywords about STC service in Saudi Arabia from 2015-2021. This data contains over 10K tweet cleaned and pre-processed."
   ]
  },
  {
   "cell_type": "markdown",
   "metadata": {
    "id": "T91tOFRYZtHC"
   },
   "source": [
    "# Datatset Link\n",
    "\n",
    "[STC Reviews](https://www.kaggle.com/samaher133/tweets-for-stc-service)"
   ]
  },
  {
   "cell_type": "markdown",
   "metadata": {
    "id": "uUoRhVIjpVEF"
   },
   "source": [
    "# Imorting "
   ]
  },
  {
   "cell_type": "code",
   "execution_count": null,
   "metadata": {
    "id": "8oEMbUatvIMO"
   },
   "outputs": [],
   "source": [
    "################################################################################\n",
    "# INSTALL CONDA ON GOOGLE COLAB\n",
    "################################################################################\n",
    "! wget https://repo.anaconda.com/miniconda/Miniconda3-py37_4.8.2-Linux-x86_64.sh\n",
    "! chmod +x Miniconda3-py37_4.8.2-Linux-x86_64.sh\n",
    "! bash ./Miniconda3-py37_4.8.2-Linux-x86_64.sh -b -f -p /usr/local\n",
    "import sys\n",
    "sys.path.append('/usr/local/lib/python3.7/site-packages/')\n",
    "\n",
    "################################################################################\n",
    "\n",
    "! pip install twint \n",
    "! conda install -c-forge nest-asyncio -y\n",
    "! pip install idna-ssl"
   ]
  },
  {
   "cell_type": "code",
   "execution_count": null,
   "metadata": {
    "id": "btJVAKdJ79yP"
   },
   "outputs": [],
   "source": [
    "import pandas as pd"
   ]
  },
  {
   "cell_type": "markdown",
   "metadata": {
    "id": "OTZnnHB6pcSt"
   },
   "source": [
    "###  upgrading the twint library"
   ]
  },
  {
   "cell_type": "code",
   "execution_count": null,
   "metadata": {
    "id": "4C-pPBChz7oh"
   },
   "outputs": [],
   "source": [
    "! pip3 install --upgrade -e git+https://github.com/twintproject/twint.git@origin/master#egg=twint"
   ]
  },
  {
   "cell_type": "code",
   "execution_count": null,
   "metadata": {
    "id": "Hzp01LB5a3sW"
   },
   "outputs": [],
   "source": [
    "! pip3 install --upgrade aiohttp_socks"
   ]
  },
  {
   "cell_type": "code",
   "execution_count": 1,
   "metadata": {
    "id": "QzmQyGeq04RC"
   },
   "outputs": [],
   "source": [
    "import twint\n",
    "import nest_asyncio\n",
    "nest_asyncio.apply()"
   ]
  },
  {
   "cell_type": "markdown",
   "metadata": {
    "id": "0HDN8ZVMpzwD"
   },
   "source": [
    "- The first dataset based on the **keyword** (ماي اس تي سي) and also based on spesicfic date 2015 until jan of 2021 "
   ]
  },
  {
   "cell_type": "code",
   "execution_count": null,
   "metadata": {
    "id": "q9Yvb_9dl4ao"
   },
   "outputs": [],
   "source": [
    "c = twint.Config()\n",
    "c.Search ='ماي اس تي سي'\n",
    "\n",
    "#num of tweets\n",
    "# c.Limit = 4000\n",
    "\n",
    "#languge \n",
    "c.Lang='ar'\n",
    "\n",
    "\n",
    "# Date \n",
    "c.Since = \"2015-01-01 00:30:15\"\n",
    "c.Until = '2021-01-26 18:03:00'\n",
    "\n",
    "\n",
    "\n",
    "# creating in a dataframe\n",
    "c.Pandas=True\n",
    "mystc_1 =  twint.storage.panda.Tweets_df\n",
    "twint.run.Search(c)\n"
   ]
  },
  {
   "cell_type": "code",
   "execution_count": 14,
   "metadata": {
    "colab": {
     "base_uri": "https://localhost:8080/"
    },
    "id": "TEOLQpv9iohj",
    "outputId": "5ce766fc-1f92-427a-f36d-50c58094a768"
   },
   "outputs": [
    {
     "data": {
      "text/plain": [
       "(5416, 38)"
      ]
     },
     "execution_count": 14,
     "metadata": {
      "tags": []
     },
     "output_type": "execute_result"
    }
   ],
   "source": [
    "mystc_1.shape"
   ]
  },
  {
   "cell_type": "markdown",
   "metadata": {
    "id": "iTt02CGrqokX"
   },
   "source": [
    "- save data on csv file on google drive\n"
   ]
  },
  {
   "cell_type": "code",
   "execution_count": 17,
   "metadata": {
    "id": "JFH9SK_0VV9k"
   },
   "outputs": [],
   "source": [
    "mystc_1.to_csv('mystc_1.csv')\n",
    "! cp mystc_1.csv 'drive/My Drive/'"
   ]
  },
  {
   "cell_type": "code",
   "execution_count": 18,
   "metadata": {
    "id": "wIUX2STeVsRo"
   },
   "outputs": [],
   "source": [
    "import pandas as pd\n",
    "df1 = pd.read_csv(\"/content/drive/My Drive/mystc_1.csv\",lineterminator='\\n')"
   ]
  },
  {
   "cell_type": "markdown",
   "metadata": {
    "id": "qqB629MYqzuL"
   },
   "source": [
    "- choose specific features"
   ]
  },
  {
   "cell_type": "code",
   "execution_count": 20,
   "metadata": {
    "id": "8Z7wP0XVkDNJ"
   },
   "outputs": [],
   "source": [
    "df1=df1[['id','created_at',\t'date' ,'tweet' ,'user_id' ,'name','retweet'\t,'nlikes',\t'nreplies',\t'nretweets']]"
   ]
  },
  {
   "cell_type": "markdown",
   "metadata": {
    "id": "c0VP-kMPs0f3"
   },
   "source": [
    "<html>\n",
    "</br>\n",
    "</br>\n",
    "</html>"
   ]
  },
  {
   "cell_type": "markdown",
   "metadata": {
    "id": "XWGOJzRir_at"
   },
   "source": [
    "- The third dataset based on the **keyword** ( خدمة اس تي سي) and also based on spesicfic date 2020 until jan of 2021 \n"
   ]
  },
  {
   "cell_type": "code",
   "execution_count": null,
   "metadata": {
    "id": "wc9z-nHVcE-4"
   },
   "outputs": [],
   "source": [
    "c = twint.Config()\n",
    "c.Search = 'خدمة اس تي سي'\n",
    "\n",
    "#num of tweets\n",
    "# c.Limit = 4000\n",
    "\n",
    "#languge \n",
    "c.Lang='ar'\n",
    "\n",
    "\n",
    "# Date \n",
    "c.Since = \"2015-01-01 00:30:15\"\n",
    "c.Until = '2021-01-26 18:03:00'\n",
    "\n",
    "\n",
    "\n",
    "# creating in a dataframe\n",
    "c.Pandas=True\n",
    "stc_service_ver3 =  twint.storage.panda.Tweets_df\n",
    "twint.run.Search(c)"
   ]
  },
  {
   "cell_type": "code",
   "execution_count": 23,
   "metadata": {
    "colab": {
     "base_uri": "https://localhost:8080/"
    },
    "id": "gjgMMj2tdGgb",
    "outputId": "9ccf8a5e-a5b6-4021-cf64-4d0339f80bfd"
   },
   "outputs": [
    {
     "data": {
      "text/plain": [
       "(5415, 38)"
      ]
     },
     "execution_count": 23,
     "metadata": {
      "tags": []
     },
     "output_type": "execute_result"
    }
   ],
   "source": [
    "stc_service_ver3.shape"
   ]
  },
  {
   "cell_type": "markdown",
   "metadata": {
    "id": "IqoeJonFsaWf"
   },
   "source": [
    "- save data on csv file on google drive\n"
   ]
  },
  {
   "cell_type": "code",
   "execution_count": 25,
   "metadata": {
    "id": "0xT-sGdYdUFo"
   },
   "outputs": [],
   "source": [
    "stc_service_ver3.to_csv('stc_service_tweet_ver3.csv')\n",
    "! cp stc_service_tweet_ver3.csv 'drive/My Drive/'"
   ]
  },
  {
   "cell_type": "code",
   "execution_count": 26,
   "metadata": {
    "id": "5keQtQ1FdfHv"
   },
   "outputs": [],
   "source": [
    "import pandas as pd\n",
    "df3 = pd.read_csv(\"/content/drive/My Drive/stc_service_tweet_ver3.csv\",lineterminator='\\n')"
   ]
  },
  {
   "cell_type": "markdown",
   "metadata": {
    "id": "HXau7f_2scOZ"
   },
   "source": [
    "- choose specific features"
   ]
  },
  {
   "cell_type": "code",
   "execution_count": 28,
   "metadata": {
    "id": "rTSBOAPuguws"
   },
   "outputs": [],
   "source": [
    "df3 = df3[['id','created_at',\t'date' ,'tweet' ,'user_id' ,'name','retweet'\t,'nlikes',\t'nreplies',\t'nretweets'\t]]"
   ]
  },
  {
   "cell_type": "code",
   "execution_count": 36,
   "metadata": {
    "colab": {
     "base_uri": "https://localhost:8080/"
    },
    "id": "qPe1D1pLmZgd",
    "outputId": "dfe0c919-d8f5-489d-8712-c3b9c5904659"
   },
   "outputs": [
    {
     "data": {
      "text/plain": [
       "((5416, 10), (5415, 10))"
      ]
     },
     "execution_count": 36,
     "metadata": {
      "tags": []
     },
     "output_type": "execute_result"
    }
   ],
   "source": [
    "df1.shape , df3.shape"
   ]
  },
  {
   "cell_type": "markdown",
   "metadata": {
    "id": "gkYtbQLHsi7_"
   },
   "source": [
    "\n",
    "\n",
    "<html>\n",
    "</br>\n",
    "</br>\n",
    "</html>\n",
    "\n"
   ]
  },
  {
   "cell_type": "markdown",
   "metadata": {
    "id": "_O1SBtYdYN5B"
   },
   "source": [
    "Concat the tow datasets of reviews"
   ]
  },
  {
   "cell_type": "code",
   "execution_count": 218,
   "metadata": {
    "id": "AaPkx8wahRxf"
   },
   "outputs": [],
   "source": [
    "import pandas as pd\n",
    "stc = [df1, df3]\n",
    "stc_info = pd.concat(stc)"
   ]
  },
  {
   "cell_type": "code",
   "execution_count": 219,
   "metadata": {
    "colab": {
     "base_uri": "https://localhost:8080/"
    },
    "id": "PGcA21_pLoME",
    "outputId": "6ec6ed49-5669-45a5-941e-77ef69fcc834"
   },
   "outputs": [
    {
     "data": {
      "text/plain": [
       "(10831, 10)"
      ]
     },
     "execution_count": 219,
     "metadata": {
      "tags": []
     },
     "output_type": "execute_result"
    }
   ],
   "source": [
    "stc_info.shape"
   ]
  },
  {
   "cell_type": "code",
   "execution_count": 220,
   "metadata": {
    "id": "8HuukxrJiQFi"
   },
   "outputs": [],
   "source": [
    "stc_info.to_csv('stc_info_result11.csv')\n",
    "! cp stc_info_result11.csv 'drive/My Drive/'"
   ]
  },
  {
   "cell_type": "code",
   "execution_count": 1,
   "metadata": {
    "id": "DUfU4IbbiMpZ"
   },
   "outputs": [],
   "source": [
    "import pandas as pd\n",
    "stc_all_tweets = pd.read_csv(\"/content/drive/My Drive/stc_info_result11.csv\",lineterminator='\\n' )\n",
    "stc_all_tweets.drop('Unnamed: 0' , axis=1 , inplace=True)"
   ]
  },
  {
   "cell_type": "code",
   "execution_count": 34,
   "metadata": {
    "colab": {
     "base_uri": "https://localhost:8080/",
     "height": 289
    },
    "id": "VUXWhWUEm2JX",
    "outputId": "dd5eb1c0-e210-440a-ed16-547076cdbc2f"
   },
   "outputs": [
    {
     "data": {
      "text/html": [
       "<div>\n",
       "<style scoped>\n",
       "    .dataframe tbody tr th:only-of-type {\n",
       "        vertical-align: middle;\n",
       "    }\n",
       "\n",
       "    .dataframe tbody tr th {\n",
       "        vertical-align: top;\n",
       "    }\n",
       "\n",
       "    .dataframe thead th {\n",
       "        text-align: right;\n",
       "    }\n",
       "</style>\n",
       "<table border=\"1\" class=\"dataframe\">\n",
       "  <thead>\n",
       "    <tr style=\"text-align: right;\">\n",
       "      <th></th>\n",
       "      <th>id</th>\n",
       "      <th>created_at</th>\n",
       "      <th>date</th>\n",
       "      <th>user_id</th>\n",
       "      <th>name</th>\n",
       "      <th>retweet</th>\n",
       "      <th>nlikes</th>\n",
       "      <th>nreplies</th>\n",
       "      <th>nretweets</th>\n",
       "      <th>tweet4</th>\n",
       "    </tr>\n",
       "  </thead>\n",
       "  <tbody>\n",
       "    <tr>\n",
       "      <th>0</th>\n",
       "      <td>1353913978834051073</td>\n",
       "      <td>1.611633e+12</td>\n",
       "      <td>2021-01-26 03:53:41</td>\n",
       "      <td>177757484</td>\n",
       "      <td>NOHY✨ البراقة</td>\n",
       "      <td>False</td>\n",
       "      <td>0</td>\n",
       "      <td>1</td>\n",
       "      <td>0</td>\n",
       "      <td>سحبتو مني مبلغ لشحن رصيد طريق ماي اس سي تواصلت...</td>\n",
       "    </tr>\n",
       "    <tr>\n",
       "      <th>1</th>\n",
       "      <td>1353709940901371904</td>\n",
       "      <td>1.611585e+12</td>\n",
       "      <td>2021-01-25 14:22:55</td>\n",
       "      <td>1280687902364745731</td>\n",
       "      <td>B..</td>\n",
       "      <td>False</td>\n",
       "      <td>2</td>\n",
       "      <td>2</td>\n",
       "      <td>0</td>\n",
       "      <td>اذا رقمك شغال وعندك نسخه واتس اب السحابه بالوا...</td>\n",
       "    </tr>\n",
       "    <tr>\n",
       "      <th>2</th>\n",
       "      <td>1353470988319653888</td>\n",
       "      <td>1.611528e+12</td>\n",
       "      <td>2021-01-24 22:33:24</td>\n",
       "      <td>2569667586</td>\n",
       "      <td>A&amp;....</td>\n",
       "      <td>False</td>\n",
       "      <td>0</td>\n",
       "      <td>1</td>\n",
       "      <td>0</td>\n",
       "      <td>اشتراك stc للمنصه روح ل stc واسالهم طريقته الا...</td>\n",
       "    </tr>\n",
       "    <tr>\n",
       "      <th>3</th>\n",
       "      <td>1353426146621235201</td>\n",
       "      <td>1.611517e+12</td>\n",
       "      <td>2021-01-24 19:35:13</td>\n",
       "      <td>584766522</td>\n",
       "      <td>a7sas asmar</td>\n",
       "      <td>False</td>\n",
       "      <td>0</td>\n",
       "      <td>1</td>\n",
       "      <td>0</td>\n",
       "      <td>شوي وأحد يمنشني الله يسعدكم شكلي الليله مداوم ...</td>\n",
       "    </tr>\n",
       "    <tr>\n",
       "      <th>4</th>\n",
       "      <td>1353417040816713729</td>\n",
       "      <td>1.611515e+12</td>\n",
       "      <td>2021-01-24 18:59:02</td>\n",
       "      <td>408119559</td>\n",
       "      <td>Rehab. 👩🏻‍💻</td>\n",
       "      <td>False</td>\n",
       "      <td>0</td>\n",
       "      <td>1</td>\n",
       "      <td>0</td>\n",
       "      <td>اقدر اطلع بدل فاقد تطبيق ماي اس سي</td>\n",
       "    </tr>\n",
       "  </tbody>\n",
       "</table>\n",
       "</div>"
      ],
      "text/plain": [
       "                    id  ...                                             tweet4\n",
       "0  1353913978834051073  ...  سحبتو مني مبلغ لشحن رصيد طريق ماي اس سي تواصلت...\n",
       "1  1353709940901371904  ...  اذا رقمك شغال وعندك نسخه واتس اب السحابه بالوا...\n",
       "2  1353470988319653888  ...  اشتراك stc للمنصه روح ل stc واسالهم طريقته الا...\n",
       "3  1353426146621235201  ...  شوي وأحد يمنشني الله يسعدكم شكلي الليله مداوم ...\n",
       "4  1353417040816713729  ...                 اقدر اطلع بدل فاقد تطبيق ماي اس سي\n",
       "\n",
       "[5 rows x 10 columns]"
      ]
     },
     "execution_count": 34,
     "metadata": {
      "tags": []
     },
     "output_type": "execute_result"
    }
   ],
   "source": [
    "stc_all_tweets.head()"
   ]
  },
  {
   "cell_type": "markdown",
   "metadata": {
    "id": "OV0W-yuaHD4g"
   },
   "source": [
    "### Check null values "
   ]
  },
  {
   "cell_type": "code",
   "execution_count": 4,
   "metadata": {
    "colab": {
     "base_uri": "https://localhost:8080/"
    },
    "id": "AtzxqEJDkT8-",
    "outputId": "a3842850-fc75-414d-99df-0b7dcec91a10"
   },
   "outputs": [
    {
     "data": {
      "text/plain": [
       "id            0\n",
       "created_at    0\n",
       "date          0\n",
       "tweet         0\n",
       "user_id       0\n",
       "name          2\n",
       "retweet       0\n",
       "nlikes        0\n",
       "nreplies      0\n",
       "nretweets     0\n",
       "dtype: int64"
      ]
     },
     "execution_count": 4,
     "metadata": {
      "tags": []
     },
     "output_type": "execute_result"
    }
   ],
   "source": [
    "stc_all_tweets.isna().sum()"
   ]
  },
  {
   "cell_type": "code",
   "execution_count": 5,
   "metadata": {
    "id": "3hi6pXGRMcu-"
   },
   "outputs": [],
   "source": [
    "stc_all_tweets.dropna(inplace=True)"
   ]
  },
  {
   "cell_type": "markdown",
   "metadata": {
    "id": "bOeeiZFLG98X"
   },
   "source": [
    "### Cleaning Data "
   ]
  },
  {
   "cell_type": "code",
   "execution_count": 6,
   "metadata": {
    "id": "Ce5oJyH-oY0a"
   },
   "outputs": [],
   "source": [
    "import re\n",
    "# Removing mention \n",
    "stc_all_tweets['tweet']= stc_all_tweets['tweet'].apply(lambda x: re.sub(\"@\\S+\", \" \" , x)) \n",
    "# Removing hashtags \n",
    "stc_all_tweets['tweet']= stc_all_tweets['tweet'].apply(lambda x: re.sub(\"#\\S+\", \" \", x)) \n",
    "# Removing special charachter \n",
    "stc_all_tweets['tweet']= stc_all_tweets['tweet'].apply(lambda x: re.sub(r'[؟|؟؟|?|$|.|!]',r'',x)) \n",
    "#Remove urls \n",
    "stc_all_tweets['tweet']= stc_all_tweets['tweet'].apply(lambda x:re.sub(\"https*\\S+\", \" \", x)) \n",
    "#Remove over spaces \n",
    "stc_all_tweets['tweet']= stc_all_tweets['tweet'].apply(lambda x:re.sub('\\s{2,}', \" \", x)) \n",
    "# Remove \n",
    "stc_all_tweets['tweet']= stc_all_tweets['tweet'].apply(lambda x:re.sub(r'\\w*\\d+\\w*', '', x)) \n"
   ]
  },
  {
   "cell_type": "code",
   "execution_count": 8,
   "metadata": {
    "colab": {
     "base_uri": "https://localhost:8080/",
     "height": 589
    },
    "id": "Rzr_5x7kv9E6",
    "outputId": "44fd87f1-09d0-45a0-f2e8-95b6c987de2d"
   },
   "outputs": [
    {
     "data": {
      "text/html": [
       "<div>\n",
       "<style scoped>\n",
       "    .dataframe tbody tr th:only-of-type {\n",
       "        vertical-align: middle;\n",
       "    }\n",
       "\n",
       "    .dataframe tbody tr th {\n",
       "        vertical-align: top;\n",
       "    }\n",
       "\n",
       "    .dataframe thead th {\n",
       "        text-align: right;\n",
       "    }\n",
       "</style>\n",
       "<table border=\"1\" class=\"dataframe\">\n",
       "  <thead>\n",
       "    <tr style=\"text-align: right;\">\n",
       "      <th></th>\n",
       "      <th>id</th>\n",
       "      <th>created_at</th>\n",
       "      <th>date</th>\n",
       "      <th>tweet</th>\n",
       "      <th>user_id</th>\n",
       "      <th>name</th>\n",
       "      <th>retweet</th>\n",
       "      <th>nlikes</th>\n",
       "      <th>nreplies</th>\n",
       "      <th>nretweets</th>\n",
       "    </tr>\n",
       "  </thead>\n",
       "  <tbody>\n",
       "    <tr>\n",
       "      <th>0</th>\n",
       "      <td>1353913978834051073</td>\n",
       "      <td>1.611633e+12</td>\n",
       "      <td>2021-01-26 03:53:41</td>\n",
       "      <td>سحبتو مني مبلغ  لشحن رصيد عن طريق ماي اس تي س...</td>\n",
       "      <td>177757484</td>\n",
       "      <td>NOHY✨ البراقة</td>\n",
       "      <td>False</td>\n",
       "      <td>0</td>\n",
       "      <td>1</td>\n",
       "      <td>0</td>\n",
       "    </tr>\n",
       "    <tr>\n",
       "      <th>1</th>\n",
       "      <td>1353709940901371904</td>\n",
       "      <td>1.611585e+12</td>\n",
       "      <td>2021-01-25 14:22:55</td>\n",
       "      <td>اذا رقمك شغال وعندك نسخه واتس اب على السحابه ...</td>\n",
       "      <td>1280687902364745731</td>\n",
       "      <td>B..</td>\n",
       "      <td>False</td>\n",
       "      <td>2</td>\n",
       "      <td>2</td>\n",
       "      <td>0</td>\n",
       "    </tr>\n",
       "    <tr>\n",
       "      <th>2</th>\n",
       "      <td>1353470988319653888</td>\n",
       "      <td>1.611528e+12</td>\n",
       "      <td>2021-01-24 22:33:24</td>\n",
       "      <td>فيه اشتراك في stc للمنصه روح ل stc واسالهم كي...</td>\n",
       "      <td>2569667586</td>\n",
       "      <td>A&amp;....</td>\n",
       "      <td>False</td>\n",
       "      <td>0</td>\n",
       "      <td>1</td>\n",
       "      <td>0</td>\n",
       "    </tr>\n",
       "    <tr>\n",
       "      <th>3</th>\n",
       "      <td>1353426146621235201</td>\n",
       "      <td>1.611517e+12</td>\n",
       "      <td>2021-01-24 19:35:13</td>\n",
       "      <td>كل شوي وأحد يمنشني الله يسعدكم شكلي الليله مد...</td>\n",
       "      <td>584766522</td>\n",
       "      <td>a7sas asmar</td>\n",
       "      <td>False</td>\n",
       "      <td>0</td>\n",
       "      <td>1</td>\n",
       "      <td>0</td>\n",
       "    </tr>\n",
       "    <tr>\n",
       "      <th>4</th>\n",
       "      <td>1353417040816713729</td>\n",
       "      <td>1.611515e+12</td>\n",
       "      <td>2021-01-24 18:59:02</td>\n",
       "      <td>هل اقدر اطلع بدل فاقد من تطبيق ماي اس تي سي</td>\n",
       "      <td>408119559</td>\n",
       "      <td>Rehab. 👩🏻‍💻</td>\n",
       "      <td>False</td>\n",
       "      <td>0</td>\n",
       "      <td>1</td>\n",
       "      <td>0</td>\n",
       "    </tr>\n",
       "    <tr>\n",
       "      <th>...</th>\n",
       "      <td>...</td>\n",
       "      <td>...</td>\n",
       "      <td>...</td>\n",
       "      <td>...</td>\n",
       "      <td>...</td>\n",
       "      <td>...</td>\n",
       "      <td>...</td>\n",
       "      <td>...</td>\n",
       "      <td>...</td>\n",
       "      <td>...</td>\n",
       "    </tr>\n",
       "    <tr>\n",
       "      <th>10826</th>\n",
       "      <td>551460881625014274</td>\n",
       "      <td>1.420313e+12</td>\n",
       "      <td>2015-01-03 19:31:34</td>\n",
       "      <td>مرحبا بإمكانك الاطلاع على كمية البيانات المتب...</td>\n",
       "      <td>152641509</td>\n",
       "      <td>العناية بالعملاء stc السعودية</td>\n",
       "      <td>False</td>\n",
       "      <td>0</td>\n",
       "      <td>0</td>\n",
       "      <td>0</td>\n",
       "    </tr>\n",
       "    <tr>\n",
       "      <th>10827</th>\n",
       "      <td>551446748250787840</td>\n",
       "      <td>1.420310e+12</td>\n",
       "      <td>2015-01-03 18:35:24</td>\n",
       "      <td>مرحبا لمعرفة عروض مسبق الدفع ارجو الإطلاع على...</td>\n",
       "      <td>152641509</td>\n",
       "      <td>العناية بالعملاء stc السعودية</td>\n",
       "      <td>False</td>\n",
       "      <td>0</td>\n",
       "      <td>0</td>\n",
       "      <td>0</td>\n",
       "    </tr>\n",
       "    <tr>\n",
       "      <th>10828</th>\n",
       "      <td>551446022434877440</td>\n",
       "      <td>1.420310e+12</td>\n",
       "      <td>2015-01-03 18:32:31</td>\n",
       "      <td>مرحبا لمعرفة عروض مسبق الدفع ارجو الإطلاع على...</td>\n",
       "      <td>152641509</td>\n",
       "      <td>العناية بالعملاء stc السعودية</td>\n",
       "      <td>False</td>\n",
       "      <td>0</td>\n",
       "      <td>0</td>\n",
       "      <td>0</td>\n",
       "    </tr>\n",
       "    <tr>\n",
       "      <th>10829</th>\n",
       "      <td>550948181543227392</td>\n",
       "      <td>1.420191e+12</td>\n",
       "      <td>2015-01-02 09:34:17</td>\n",
       "      <td>اهلا وسهلا ,,,بامكانك الاطلاع على تفاصيل البا...</td>\n",
       "      <td>152641509</td>\n",
       "      <td>العناية بالعملاء stc السعودية</td>\n",
       "      <td>False</td>\n",
       "      <td>0</td>\n",
       "      <td>0</td>\n",
       "      <td>0</td>\n",
       "    </tr>\n",
       "    <tr>\n",
       "      <th>10830</th>\n",
       "      <td>550854981461737472</td>\n",
       "      <td>1.420169e+12</td>\n",
       "      <td>2015-01-02 03:23:56</td>\n",
       "      <td>يمكنك معرفة المتبقي من اشتراكك من خلال موقع ا...</td>\n",
       "      <td>152641509</td>\n",
       "      <td>العناية بالعملاء stc السعودية</td>\n",
       "      <td>False</td>\n",
       "      <td>0</td>\n",
       "      <td>0</td>\n",
       "      <td>0</td>\n",
       "    </tr>\n",
       "  </tbody>\n",
       "</table>\n",
       "<p>10829 rows × 10 columns</p>\n",
       "</div>"
      ],
      "text/plain": [
       "                        id    created_at  ... nreplies nretweets\n",
       "0      1353913978834051073  1.611633e+12  ...        1         0\n",
       "1      1353709940901371904  1.611585e+12  ...        2         0\n",
       "2      1353470988319653888  1.611528e+12  ...        1         0\n",
       "3      1353426146621235201  1.611517e+12  ...        1         0\n",
       "4      1353417040816713729  1.611515e+12  ...        1         0\n",
       "...                    ...           ...  ...      ...       ...\n",
       "10826   551460881625014274  1.420313e+12  ...        0         0\n",
       "10827   551446748250787840  1.420310e+12  ...        0         0\n",
       "10828   551446022434877440  1.420310e+12  ...        0         0\n",
       "10829   550948181543227392  1.420191e+12  ...        0         0\n",
       "10830   550854981461737472  1.420169e+12  ...        0         0\n",
       "\n",
       "[10829 rows x 10 columns]"
      ]
     },
     "execution_count": 8,
     "metadata": {
      "tags": []
     },
     "output_type": "execute_result"
    }
   ],
   "source": [
    "stc_all_tweets"
   ]
  },
  {
   "cell_type": "markdown",
   "metadata": {
    "id": "qZnjcLA3HP32"
   },
   "source": [
    "### Preprocessing Data"
   ]
  },
  {
   "cell_type": "code",
   "execution_count": 9,
   "metadata": {
    "colab": {
     "base_uri": "https://localhost:8080/"
    },
    "id": "X0vjtZS9oY0d",
    "outputId": "96fbb938-4a11-4fb4-f1e3-a84253ba9eb7"
   },
   "outputs": [
    {
     "name": "stdout",
     "output_type": "stream",
     "text": [
      "[nltk_data] Downloading package punkt to /root/nltk_data...\n",
      "[nltk_data]   Unzipping tokenizers/punkt.zip.\n",
      "[nltk_data] Downloading package stopwords to /root/nltk_data...\n",
      "[nltk_data]   Unzipping corpora/stopwords.zip.\n"
     ]
    },
    {
     "data": {
      "text/plain": [
       "True"
      ]
     },
     "execution_count": 9,
     "metadata": {
      "tags": []
     },
     "output_type": "execute_result"
    }
   ],
   "source": [
    "import nltk \n",
    "from nltk import word_tokenize\n",
    "from nltk.corpus import  stopwords\n",
    "nltk.download('punkt')\n",
    "nltk.download('stopwords')"
   ]
  },
  {
   "cell_type": "code",
   "execution_count": 10,
   "metadata": {
    "id": "7Tt8uA5OoY0e"
   },
   "outputs": [],
   "source": [
    "stc_all_tweets['tweet2'] = stc_all_tweets['tweet'].apply(nltk.word_tokenize)"
   ]
  },
  {
   "cell_type": "code",
   "execution_count": 11,
   "metadata": {
    "id": "d_LW3HJpoY0f"
   },
   "outputs": [],
   "source": [
    "sw= stopwords.words('arabic')"
   ]
  },
  {
   "cell_type": "code",
   "execution_count": 12,
   "metadata": {
    "id": "QuZVjFBdoY0h"
   },
   "outputs": [],
   "source": [
    "stc_all_tweets['tweet3'] = stc_all_tweets['tweet2'].apply(lambda x:[i for i in x if i not in sw])"
   ]
  },
  {
   "cell_type": "code",
   "execution_count": 13,
   "metadata": {
    "id": "ewkU5u8OoY0i"
   },
   "outputs": [],
   "source": [
    "stc_all_tweets['tweet4']= stc_all_tweets['tweet3'].apply(lambda x: ' '.join([i for i in x]))"
   ]
  },
  {
   "cell_type": "code",
   "execution_count": 14,
   "metadata": {
    "id": "N1IFzqKPoY0k"
   },
   "outputs": [],
   "source": [
    "stc_all_tweets.drop(['tweet2' , 'tweet3'] , axis=1 , inplace=True )"
   ]
  },
  {
   "cell_type": "code",
   "execution_count": 15,
   "metadata": {
    "id": "5bWd7xJUoXzN"
   },
   "outputs": [],
   "source": [
    "stc_all_tweets.drop('tweet' ,axis=1 , inplace=True )"
   ]
  },
  {
   "cell_type": "code",
   "execution_count": 16,
   "metadata": {
    "colab": {
     "base_uri": "https://localhost:8080/",
     "height": 289
    },
    "id": "DsqA4-7pS70o",
    "outputId": "c1a89b07-870a-4284-a8f1-60d6adcded1c"
   },
   "outputs": [
    {
     "data": {
      "text/html": [
       "<div>\n",
       "<style scoped>\n",
       "    .dataframe tbody tr th:only-of-type {\n",
       "        vertical-align: middle;\n",
       "    }\n",
       "\n",
       "    .dataframe tbody tr th {\n",
       "        vertical-align: top;\n",
       "    }\n",
       "\n",
       "    .dataframe thead th {\n",
       "        text-align: right;\n",
       "    }\n",
       "</style>\n",
       "<table border=\"1\" class=\"dataframe\">\n",
       "  <thead>\n",
       "    <tr style=\"text-align: right;\">\n",
       "      <th></th>\n",
       "      <th>id</th>\n",
       "      <th>created_at</th>\n",
       "      <th>date</th>\n",
       "      <th>user_id</th>\n",
       "      <th>name</th>\n",
       "      <th>retweet</th>\n",
       "      <th>nlikes</th>\n",
       "      <th>nreplies</th>\n",
       "      <th>nretweets</th>\n",
       "      <th>tweet4</th>\n",
       "    </tr>\n",
       "  </thead>\n",
       "  <tbody>\n",
       "    <tr>\n",
       "      <th>0</th>\n",
       "      <td>1353913978834051073</td>\n",
       "      <td>1.611633e+12</td>\n",
       "      <td>2021-01-26 03:53:41</td>\n",
       "      <td>177757484</td>\n",
       "      <td>NOHY✨ البراقة</td>\n",
       "      <td>False</td>\n",
       "      <td>0</td>\n",
       "      <td>1</td>\n",
       "      <td>0</td>\n",
       "      <td>سحبتو مني مبلغ لشحن رصيد طريق ماي اس سي تواصلت...</td>\n",
       "    </tr>\n",
       "    <tr>\n",
       "      <th>1</th>\n",
       "      <td>1353709940901371904</td>\n",
       "      <td>1.611585e+12</td>\n",
       "      <td>2021-01-25 14:22:55</td>\n",
       "      <td>1280687902364745731</td>\n",
       "      <td>B..</td>\n",
       "      <td>False</td>\n",
       "      <td>2</td>\n",
       "      <td>2</td>\n",
       "      <td>0</td>\n",
       "      <td>اذا رقمك شغال وعندك نسخه واتس اب السحابه بالوا...</td>\n",
       "    </tr>\n",
       "    <tr>\n",
       "      <th>2</th>\n",
       "      <td>1353470988319653888</td>\n",
       "      <td>1.611528e+12</td>\n",
       "      <td>2021-01-24 22:33:24</td>\n",
       "      <td>2569667586</td>\n",
       "      <td>A&amp;....</td>\n",
       "      <td>False</td>\n",
       "      <td>0</td>\n",
       "      <td>1</td>\n",
       "      <td>0</td>\n",
       "      <td>اشتراك stc للمنصه روح ل stc واسالهم طريقته الا...</td>\n",
       "    </tr>\n",
       "    <tr>\n",
       "      <th>3</th>\n",
       "      <td>1353426146621235201</td>\n",
       "      <td>1.611517e+12</td>\n",
       "      <td>2021-01-24 19:35:13</td>\n",
       "      <td>584766522</td>\n",
       "      <td>a7sas asmar</td>\n",
       "      <td>False</td>\n",
       "      <td>0</td>\n",
       "      <td>1</td>\n",
       "      <td>0</td>\n",
       "      <td>شوي وأحد يمنشني الله يسعدكم شكلي الليله مداوم ...</td>\n",
       "    </tr>\n",
       "    <tr>\n",
       "      <th>4</th>\n",
       "      <td>1353417040816713729</td>\n",
       "      <td>1.611515e+12</td>\n",
       "      <td>2021-01-24 18:59:02</td>\n",
       "      <td>408119559</td>\n",
       "      <td>Rehab. 👩🏻‍💻</td>\n",
       "      <td>False</td>\n",
       "      <td>0</td>\n",
       "      <td>1</td>\n",
       "      <td>0</td>\n",
       "      <td>اقدر اطلع بدل فاقد تطبيق ماي اس سي</td>\n",
       "    </tr>\n",
       "  </tbody>\n",
       "</table>\n",
       "</div>"
      ],
      "text/plain": [
       "                    id  ...                                             tweet4\n",
       "0  1353913978834051073  ...  سحبتو مني مبلغ لشحن رصيد طريق ماي اس سي تواصلت...\n",
       "1  1353709940901371904  ...  اذا رقمك شغال وعندك نسخه واتس اب السحابه بالوا...\n",
       "2  1353470988319653888  ...  اشتراك stc للمنصه روح ل stc واسالهم طريقته الا...\n",
       "3  1353426146621235201  ...  شوي وأحد يمنشني الله يسعدكم شكلي الليله مداوم ...\n",
       "4  1353417040816713729  ...                 اقدر اطلع بدل فاقد تطبيق ماي اس سي\n",
       "\n",
       "[5 rows x 10 columns]"
      ]
     },
     "execution_count": 16,
     "metadata": {
      "tags": []
     },
     "output_type": "execute_result"
    }
   ],
   "source": [
    "stc_all_tweets.head() # tweet4 after removing stopwords "
   ]
  },
  {
   "cell_type": "markdown",
   "metadata": {
    "id": "8mTXtOKlHl8n"
   },
   "source": [
    "### Removing all accounts that dose not related to our goal"
   ]
  },
  {
   "cell_type": "code",
   "execution_count": 17,
   "metadata": {
    "id": "neDE-I0hlaXZ"
   },
   "outputs": [],
   "source": [
    "clean=['صحيفة','صحيفه' ,'اخبار', 'أخبار', 'قناة', 'قناه' , 'عاجل' ,'جريده', 'جريدة' ,'هام' ,'زيادة','متابعين'] "
   ]
  },
  {
   "cell_type": "markdown",
   "metadata": {
    "id": "MmnEgpQvH87p"
   },
   "source": [
    "#### Searching for the accounts in our dataframe"
   ]
  },
  {
   "cell_type": "code",
   "execution_count": null,
   "metadata": {
    "id": "XMVMP_wB1ita"
   },
   "outputs": [],
   "source": [
    "val=[]\n",
    "for i  in  stc_all_tweets.name:\n",
    "  print(i.index)\n",
    "  for j in clean:\n",
    "     if j in i: \n",
    "       o=getIndexes(stc_all_tweets,i)\n",
    "       val.append(o)"
   ]
  },
  {
   "cell_type": "markdown",
   "metadata": {
    "id": "V0C7vtdgHx-e"
   },
   "source": [
    "#### Function to get the index of the value "
   ]
  },
  {
   "cell_type": "code",
   "execution_count": 19,
   "metadata": {
    "id": "keo7bmWjCGzS"
   },
   "outputs": [],
   "source": [
    "def getIndexes(dfObj, value):\n",
    "    ''' Get index positions of value in dataframe i.e. dfObj.'''\n",
    "    listOfPos = list()\n",
    "    # Get bool dataframe with True at positions where the given value exists\n",
    "    result = dfObj.isin([value])\n",
    "    # Get list of columns that contains the value\n",
    "    seriesObj = result.any()\n",
    "    columnNames = list(seriesObj[seriesObj == True].index)\n",
    "    # Iterate over list of columns and fetch the rows indexes where value exists\n",
    "    for col in columnNames:\n",
    "        rows = list(result[col][result[col] == True].index)\n",
    "        for row in rows:\n",
    "            listOfPos.append((row, col))\n",
    "    # Return a list of tuples indicating the positions of value in the dataframe\n",
    "    return listOfPos"
   ]
  },
  {
   "cell_type": "markdown",
   "metadata": {
    "id": "EEnfs_DAIaNy"
   },
   "source": [
    "#### Shape after removing the accounts "
   ]
  },
  {
   "cell_type": "code",
   "execution_count": null,
   "metadata": {
    "id": "u7McaxlXGEni"
   },
   "outputs": [],
   "source": [
    "#(10831, 10)"
   ]
  },
  {
   "cell_type": "markdown",
   "metadata": {
    "id": "Nmj25Cg_IpPq"
   },
   "source": [
    "#### Removing rows"
   ]
  },
  {
   "cell_type": "code",
   "execution_count": null,
   "metadata": {
    "id": "5vMee7hNChlC"
   },
   "outputs": [],
   "source": [
    "for i in range(len(val)):\n",
    "  value=val[i][0][0]\n",
    "  try:\n",
    "     stc_all_tweets.drop( value , inplace=True ) \n",
    "  except:\n",
    "    print('not deleted' , value)\n"
   ]
  },
  {
   "cell_type": "markdown",
   "metadata": {
    "id": "_3XzP6n6IlFT"
   },
   "source": [
    "#### Shape before removing the accounts "
   ]
  },
  {
   "cell_type": "code",
   "execution_count": 25,
   "metadata": {
    "colab": {
     "base_uri": "https://localhost:8080/"
    },
    "id": "HrYa67y00KVH",
    "outputId": "ffef9b54-0d6d-4f83-fee0-99e3e8eaeff4"
   },
   "outputs": [
    {
     "data": {
      "text/plain": [
       "(10826, 10)"
      ]
     },
     "execution_count": 25,
     "metadata": {
      "tags": []
     },
     "output_type": "execute_result"
    }
   ],
   "source": [
    "stc_all_tweets.shape"
   ]
  },
  {
   "cell_type": "code",
   "execution_count": 26,
   "metadata": {
    "colab": {
     "base_uri": "https://localhost:8080/",
     "height": 589
    },
    "id": "4q0cqYk514zP",
    "outputId": "f455da32-557a-4bf6-bf71-e739c91c48d8"
   },
   "outputs": [
    {
     "data": {
      "text/html": [
       "<div>\n",
       "<style scoped>\n",
       "    .dataframe tbody tr th:only-of-type {\n",
       "        vertical-align: middle;\n",
       "    }\n",
       "\n",
       "    .dataframe tbody tr th {\n",
       "        vertical-align: top;\n",
       "    }\n",
       "\n",
       "    .dataframe thead th {\n",
       "        text-align: right;\n",
       "    }\n",
       "</style>\n",
       "<table border=\"1\" class=\"dataframe\">\n",
       "  <thead>\n",
       "    <tr style=\"text-align: right;\">\n",
       "      <th></th>\n",
       "      <th>id</th>\n",
       "      <th>created_at</th>\n",
       "      <th>date</th>\n",
       "      <th>user_id</th>\n",
       "      <th>name</th>\n",
       "      <th>retweet</th>\n",
       "      <th>nlikes</th>\n",
       "      <th>nreplies</th>\n",
       "      <th>nretweets</th>\n",
       "      <th>tweet4</th>\n",
       "    </tr>\n",
       "  </thead>\n",
       "  <tbody>\n",
       "    <tr>\n",
       "      <th>0</th>\n",
       "      <td>1353913978834051073</td>\n",
       "      <td>1.611633e+12</td>\n",
       "      <td>2021-01-26 03:53:41</td>\n",
       "      <td>177757484</td>\n",
       "      <td>NOHY✨ البراقة</td>\n",
       "      <td>False</td>\n",
       "      <td>0</td>\n",
       "      <td>1</td>\n",
       "      <td>0</td>\n",
       "      <td>سحبتو مني مبلغ لشحن رصيد طريق ماي اس سي تواصلت...</td>\n",
       "    </tr>\n",
       "    <tr>\n",
       "      <th>1</th>\n",
       "      <td>1353709940901371904</td>\n",
       "      <td>1.611585e+12</td>\n",
       "      <td>2021-01-25 14:22:55</td>\n",
       "      <td>1280687902364745731</td>\n",
       "      <td>B..</td>\n",
       "      <td>False</td>\n",
       "      <td>2</td>\n",
       "      <td>2</td>\n",
       "      <td>0</td>\n",
       "      <td>اذا رقمك شغال وعندك نسخه واتس اب السحابه بالوا...</td>\n",
       "    </tr>\n",
       "    <tr>\n",
       "      <th>2</th>\n",
       "      <td>1353470988319653888</td>\n",
       "      <td>1.611528e+12</td>\n",
       "      <td>2021-01-24 22:33:24</td>\n",
       "      <td>2569667586</td>\n",
       "      <td>A&amp;....</td>\n",
       "      <td>False</td>\n",
       "      <td>0</td>\n",
       "      <td>1</td>\n",
       "      <td>0</td>\n",
       "      <td>اشتراك stc للمنصه روح ل stc واسالهم طريقته الا...</td>\n",
       "    </tr>\n",
       "    <tr>\n",
       "      <th>3</th>\n",
       "      <td>1353426146621235201</td>\n",
       "      <td>1.611517e+12</td>\n",
       "      <td>2021-01-24 19:35:13</td>\n",
       "      <td>584766522</td>\n",
       "      <td>a7sas asmar</td>\n",
       "      <td>False</td>\n",
       "      <td>0</td>\n",
       "      <td>1</td>\n",
       "      <td>0</td>\n",
       "      <td>شوي وأحد يمنشني الله يسعدكم شكلي الليله مداوم ...</td>\n",
       "    </tr>\n",
       "    <tr>\n",
       "      <th>4</th>\n",
       "      <td>1353417040816713729</td>\n",
       "      <td>1.611515e+12</td>\n",
       "      <td>2021-01-24 18:59:02</td>\n",
       "      <td>408119559</td>\n",
       "      <td>Rehab. 👩🏻‍💻</td>\n",
       "      <td>False</td>\n",
       "      <td>0</td>\n",
       "      <td>1</td>\n",
       "      <td>0</td>\n",
       "      <td>اقدر اطلع بدل فاقد تطبيق ماي اس سي</td>\n",
       "    </tr>\n",
       "    <tr>\n",
       "      <th>...</th>\n",
       "      <td>...</td>\n",
       "      <td>...</td>\n",
       "      <td>...</td>\n",
       "      <td>...</td>\n",
       "      <td>...</td>\n",
       "      <td>...</td>\n",
       "      <td>...</td>\n",
       "      <td>...</td>\n",
       "      <td>...</td>\n",
       "      <td>...</td>\n",
       "    </tr>\n",
       "    <tr>\n",
       "      <th>10826</th>\n",
       "      <td>551460881625014274</td>\n",
       "      <td>1.420313e+12</td>\n",
       "      <td>2015-01-03 19:31:34</td>\n",
       "      <td>152641509</td>\n",
       "      <td>العناية بالعملاء stc السعودية</td>\n",
       "      <td>False</td>\n",
       "      <td>0</td>\n",
       "      <td>0</td>\n",
       "      <td>0</td>\n",
       "      <td>مرحبا بإمكانك الاطلاع كمية البيانات المتبقيه ا...</td>\n",
       "    </tr>\n",
       "    <tr>\n",
       "      <th>10827</th>\n",
       "      <td>551446748250787840</td>\n",
       "      <td>1.420310e+12</td>\n",
       "      <td>2015-01-03 18:35:24</td>\n",
       "      <td>152641509</td>\n",
       "      <td>العناية بالعملاء stc السعودية</td>\n",
       "      <td>False</td>\n",
       "      <td>0</td>\n",
       "      <td>0</td>\n",
       "      <td>0</td>\n",
       "      <td>مرحبا لمعرفة عروض مسبق الدفع ارجو الإطلاع تطبي...</td>\n",
       "    </tr>\n",
       "    <tr>\n",
       "      <th>10828</th>\n",
       "      <td>551446022434877440</td>\n",
       "      <td>1.420310e+12</td>\n",
       "      <td>2015-01-03 18:32:31</td>\n",
       "      <td>152641509</td>\n",
       "      <td>العناية بالعملاء stc السعودية</td>\n",
       "      <td>False</td>\n",
       "      <td>0</td>\n",
       "      <td>0</td>\n",
       "      <td>0</td>\n",
       "      <td>مرحبا لمعرفة عروض مسبق الدفع ارجو الإطلاع تطبي...</td>\n",
       "    </tr>\n",
       "    <tr>\n",
       "      <th>10829</th>\n",
       "      <td>550948181543227392</td>\n",
       "      <td>1.420191e+12</td>\n",
       "      <td>2015-01-02 09:34:17</td>\n",
       "      <td>152641509</td>\n",
       "      <td>العناية بالعملاء stc السعودية</td>\n",
       "      <td>False</td>\n",
       "      <td>0</td>\n",
       "      <td>0</td>\n",
       "      <td>0</td>\n",
       "      <td>اهلا وسهلا , , , بامكانك الاطلاع تفاصيل الباقة...</td>\n",
       "    </tr>\n",
       "    <tr>\n",
       "      <th>10830</th>\n",
       "      <td>550854981461737472</td>\n",
       "      <td>1.420169e+12</td>\n",
       "      <td>2015-01-02 03:23:56</td>\n",
       "      <td>152641509</td>\n",
       "      <td>العناية بالعملاء stc السعودية</td>\n",
       "      <td>False</td>\n",
       "      <td>0</td>\n",
       "      <td>0</td>\n",
       "      <td>0</td>\n",
       "      <td>يمكنك معرفة المتبقي اشتراكك خلال موقع الجوال ن...</td>\n",
       "    </tr>\n",
       "  </tbody>\n",
       "</table>\n",
       "<p>10826 rows × 10 columns</p>\n",
       "</div>"
      ],
      "text/plain": [
       "                        id  ...                                             tweet4\n",
       "0      1353913978834051073  ...  سحبتو مني مبلغ لشحن رصيد طريق ماي اس سي تواصلت...\n",
       "1      1353709940901371904  ...  اذا رقمك شغال وعندك نسخه واتس اب السحابه بالوا...\n",
       "2      1353470988319653888  ...  اشتراك stc للمنصه روح ل stc واسالهم طريقته الا...\n",
       "3      1353426146621235201  ...  شوي وأحد يمنشني الله يسعدكم شكلي الليله مداوم ...\n",
       "4      1353417040816713729  ...                 اقدر اطلع بدل فاقد تطبيق ماي اس سي\n",
       "...                    ...  ...                                                ...\n",
       "10826   551460881625014274  ...  مرحبا بإمكانك الاطلاع كمية البيانات المتبقيه ا...\n",
       "10827   551446748250787840  ...  مرحبا لمعرفة عروض مسبق الدفع ارجو الإطلاع تطبي...\n",
       "10828   551446022434877440  ...  مرحبا لمعرفة عروض مسبق الدفع ارجو الإطلاع تطبي...\n",
       "10829   550948181543227392  ...  اهلا وسهلا , , , بامكانك الاطلاع تفاصيل الباقة...\n",
       "10830   550854981461737472  ...  يمكنك معرفة المتبقي اشتراكك خلال موقع الجوال ن...\n",
       "\n",
       "[10826 rows x 10 columns]"
      ]
     },
     "execution_count": 26,
     "metadata": {
      "tags": []
     },
     "output_type": "execute_result"
    }
   ],
   "source": [
    "stc_all_tweets"
   ]
  },
  {
   "cell_type": "code",
   "execution_count": 30,
   "metadata": {
    "id": "IwXrAfoCRb2U"
   },
   "outputs": [],
   "source": [
    "stc_all_tweets.to_csv('stc_tweets_after_final_cleaning_ver5.csv')\n",
    "! cp stc_tweets_after_final_cleaning_ver5.csv 'drive/My Drive/'"
   ]
  },
  {
   "cell_type": "code",
   "execution_count": 31,
   "metadata": {
    "id": "3ulmg-sOfjNd"
   },
   "outputs": [],
   "source": [
    "stc_tweet= pd.read_csv(\"/content/drive/My Drive/stc_tweets_after_final_cleaning_ver5.csv\",lineterminator='\\n' )"
   ]
  },
  {
   "cell_type": "code",
   "execution_count": 32,
   "metadata": {
    "colab": {
     "base_uri": "https://localhost:8080/",
     "height": 289
    },
    "id": "eyGIq2pSf0qW",
    "outputId": "e2274eb0-0f0f-4dd0-8acb-b8646cf44edf"
   },
   "outputs": [
    {
     "data": {
      "text/html": [
       "<div>\n",
       "<style scoped>\n",
       "    .dataframe tbody tr th:only-of-type {\n",
       "        vertical-align: middle;\n",
       "    }\n",
       "\n",
       "    .dataframe tbody tr th {\n",
       "        vertical-align: top;\n",
       "    }\n",
       "\n",
       "    .dataframe thead th {\n",
       "        text-align: right;\n",
       "    }\n",
       "</style>\n",
       "<table border=\"1\" class=\"dataframe\">\n",
       "  <thead>\n",
       "    <tr style=\"text-align: right;\">\n",
       "      <th></th>\n",
       "      <th>id</th>\n",
       "      <th>created_at</th>\n",
       "      <th>date</th>\n",
       "      <th>user_id</th>\n",
       "      <th>name</th>\n",
       "      <th>retweet</th>\n",
       "      <th>nlikes</th>\n",
       "      <th>nreplies</th>\n",
       "      <th>nretweets</th>\n",
       "      <th>tweet4</th>\n",
       "    </tr>\n",
       "  </thead>\n",
       "  <tbody>\n",
       "    <tr>\n",
       "      <th>0</th>\n",
       "      <td>1353913978834051073</td>\n",
       "      <td>1.611633e+12</td>\n",
       "      <td>2021-01-26 03:53:41</td>\n",
       "      <td>177757484</td>\n",
       "      <td>NOHY✨ البراقة</td>\n",
       "      <td>False</td>\n",
       "      <td>0</td>\n",
       "      <td>1</td>\n",
       "      <td>0</td>\n",
       "      <td>سحبتو مني مبلغ لشحن رصيد طريق ماي اس سي تواصلت...</td>\n",
       "    </tr>\n",
       "    <tr>\n",
       "      <th>1</th>\n",
       "      <td>1353709940901371904</td>\n",
       "      <td>1.611585e+12</td>\n",
       "      <td>2021-01-25 14:22:55</td>\n",
       "      <td>1280687902364745731</td>\n",
       "      <td>B..</td>\n",
       "      <td>False</td>\n",
       "      <td>2</td>\n",
       "      <td>2</td>\n",
       "      <td>0</td>\n",
       "      <td>اذا رقمك شغال وعندك نسخه واتس اب السحابه بالوا...</td>\n",
       "    </tr>\n",
       "    <tr>\n",
       "      <th>2</th>\n",
       "      <td>1353470988319653888</td>\n",
       "      <td>1.611528e+12</td>\n",
       "      <td>2021-01-24 22:33:24</td>\n",
       "      <td>2569667586</td>\n",
       "      <td>A&amp;....</td>\n",
       "      <td>False</td>\n",
       "      <td>0</td>\n",
       "      <td>1</td>\n",
       "      <td>0</td>\n",
       "      <td>اشتراك stc للمنصه روح ل stc واسالهم طريقته الا...</td>\n",
       "    </tr>\n",
       "    <tr>\n",
       "      <th>3</th>\n",
       "      <td>1353426146621235201</td>\n",
       "      <td>1.611517e+12</td>\n",
       "      <td>2021-01-24 19:35:13</td>\n",
       "      <td>584766522</td>\n",
       "      <td>a7sas asmar</td>\n",
       "      <td>False</td>\n",
       "      <td>0</td>\n",
       "      <td>1</td>\n",
       "      <td>0</td>\n",
       "      <td>شوي وأحد يمنشني الله يسعدكم شكلي الليله مداوم ...</td>\n",
       "    </tr>\n",
       "    <tr>\n",
       "      <th>4</th>\n",
       "      <td>1353417040816713729</td>\n",
       "      <td>1.611515e+12</td>\n",
       "      <td>2021-01-24 18:59:02</td>\n",
       "      <td>408119559</td>\n",
       "      <td>Rehab. 👩🏻‍💻</td>\n",
       "      <td>False</td>\n",
       "      <td>0</td>\n",
       "      <td>1</td>\n",
       "      <td>0</td>\n",
       "      <td>اقدر اطلع بدل فاقد تطبيق ماي اس سي</td>\n",
       "    </tr>\n",
       "  </tbody>\n",
       "</table>\n",
       "</div>"
      ],
      "text/plain": [
       "                    id  ...                                             tweet4\n",
       "0  1353913978834051073  ...  سحبتو مني مبلغ لشحن رصيد طريق ماي اس سي تواصلت...\n",
       "1  1353709940901371904  ...  اذا رقمك شغال وعندك نسخه واتس اب السحابه بالوا...\n",
       "2  1353470988319653888  ...  اشتراك stc للمنصه روح ل stc واسالهم طريقته الا...\n",
       "3  1353426146621235201  ...  شوي وأحد يمنشني الله يسعدكم شكلي الليله مداوم ...\n",
       "4  1353417040816713729  ...                 اقدر اطلع بدل فاقد تطبيق ماي اس سي\n",
       "\n",
       "[5 rows x 10 columns]"
      ]
     },
     "execution_count": 32,
     "metadata": {
      "tags": []
     },
     "output_type": "execute_result"
    }
   ],
   "source": [
    "stc_tweet.drop('Unnamed: 0' , axis=1 , inplace=True)\n",
    "stc_tweet.head()"
   ]
  },
  {
   "cell_type": "code",
   "execution_count": 33,
   "metadata": {
    "colab": {
     "base_uri": "https://localhost:8080/"
    },
    "id": "bTe5K5IVqJLN",
    "outputId": "dae6c96e-2cf5-4871-f681-244af2f1104c"
   },
   "outputs": [
    {
     "data": {
      "text/plain": [
       "(10826, 10)"
      ]
     },
     "execution_count": 33,
     "metadata": {
      "tags": []
     },
     "output_type": "execute_result"
    }
   ],
   "source": [
    "stc_tweet.shape"
   ]
  },
  {
   "cell_type": "markdown",
   "metadata": {
    "id": "eyg0q5pbbQJp"
   },
   "source": [
    "<html>\n",
    "</br></br></br>\n",
    "</html>"
   ]
  },
  {
   "cell_type": "markdown",
   "metadata": {
    "id": "o6onYPEGsRV2"
   },
   "source": [
    "# summary\n",
    "- I tryied to leable the data using blob text but it dose not work I think it need traslation to english and then we can leable them. And there is many tools to lable them but it consuming time I did not have much time to do that."
   ]
  }
 ],
 "metadata": {
  "colab": {
   "collapsed_sections": [],
   "name": "twitter.ipynb",
   "provenance": []
  },
  "kernelspec": {
   "display_name": "Python 3",
   "language": "python",
   "name": "python3"
  },
  "language_info": {
   "codemirror_mode": {
    "name": "ipython",
    "version": 3
   },
   "file_extension": ".py",
   "mimetype": "text/x-python",
   "name": "python",
   "nbconvert_exporter": "python",
   "pygments_lexer": "ipython3",
   "version": "3.8.5"
  }
 },
 "nbformat": 4,
 "nbformat_minor": 1
}
